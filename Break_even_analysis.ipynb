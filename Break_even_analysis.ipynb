{
  "nbformat": 4,
  "nbformat_minor": 0,
  "metadata": {
    "colab": {
      "provenance": [],
      "authorship_tag": "ABX9TyPYJ5isjnXihoLnfR7EAM8u",
      "include_colab_link": true
    },
    "kernelspec": {
      "name": "python3",
      "display_name": "Python 3"
    },
    "language_info": {
      "name": "python"
    }
  },
  "cells": [
    {
      "cell_type": "markdown",
      "metadata": {
        "id": "view-in-github",
        "colab_type": "text"
      },
      "source": [
        "<a href=\"https://colab.research.google.com/github/qmohsu/ENG3004-Economic-Dimension/blob/main/Break_even_analysis.ipynb\" target=\"_parent\"><img src=\"https://colab.research.google.com/assets/colab-badge.svg\" alt=\"Open In Colab\"/></a>"
      ]
    },
    {
      "cell_type": "code",
      "source": [
        "import numpy as np\n",
        "\n",
        "# Define constants\n",
        "annual_revenue_per_aircraft = 15  # Annual revenue per aircraft. Unit: milliom US$\n",
        "fuel_savings_percentage = 0.2  # 20% fuel savings\n",
        "C1 = fuel_savings_percentage * annual_revenue_per_aircraft  # Fuel savings per aircraft per year\n",
        "\n",
        "C2 = 2  # Maintenance savings per aircraft per year Unit: milliom US$\n",
        "g = 0.05        # Growth rate of maintenance cost\n",
        "r = 0.08        # Discount rate\n",
        "num_aircraft = 50\n",
        "cost_new_aircraft = 120 # Cost of new aircraft. Unit: milliom US$\n",
        "C0 = num_aircraft * cost_new_aircraft # Initial investment Unit: milliom US$\n",
        "\n",
        "# Function to compute cumulative NPV\n",
        "def find_break_even_year():\n",
        "    cumulative_sum = 0\n",
        "    T = 0\n",
        "    while cumulative_sum < C0:\n",
        "        T += 1\n",
        "        Ct = num_aircraft * (C1 + C2 * (1 + g) ** (T - 1))  # Cost savings per year\n",
        "        discounted_Ct = Ct / (1 + r) ** T\n",
        "        cumulative_sum += discounted_Ct\n",
        "\n",
        "        # Print intermediate results\n",
        "        print(f\"Year {T}: Discounted Savings = {discounted_Ct:,.2f}, Cumulative = {cumulative_sum:,.2f} Initial investment = {C0:,.2f}\")\n",
        "\n",
        "        if T > 100:  # Avoid infinite loops\n",
        "            print(\"No break-even within 100 years.\")\n",
        "            return None\n",
        "\n",
        "    return T\n",
        "\n",
        "# Solve for T\n",
        "break_even_year = find_break_even_year()\n",
        "\n",
        "if break_even_year:\n",
        "    print(f\"Break-even occurs at year {break_even_year}\")\n"
      ],
      "metadata": {
        "colab": {
          "base_uri": "https://localhost:8080/"
        },
        "id": "4SrXPkijOAG1",
        "outputId": "0fe45281-4754-44c7-8307-d36d4fd8f8f4"
      },
      "execution_count": 2,
      "outputs": [
        {
          "output_type": "stream",
          "name": "stdout",
          "text": [
            "Year 1: Discounted Savings = 245.10, Cumulative = 245.10 Initial investment = 6,000.00\n",
            "Year 2: Discounted Savings = 245.10, Cumulative = 490.20 Initial investment = 6,000.00\n",
            "Year 3: Discounted Savings = 245.24, Cumulative = 735.44 Initial investment = 6,000.00\n",
            "Year 4: Discounted Savings = 245.52, Cumulative = 980.96 Initial investment = 6,000.00\n",
            "Year 5: Discounted Savings = 245.95, Cumulative = 1,226.91 Initial investment = 6,000.00\n",
            "Year 6: Discounted Savings = 246.53, Cumulative = 1,473.44 Initial investment = 6,000.00\n",
            "Year 7: Discounted Savings = 247.25, Cumulative = 1,720.68 Initial investment = 6,000.00\n",
            "Year 8: Discounted Savings = 248.12, Cumulative = 1,968.80 Initial investment = 6,000.00\n",
            "Year 9: Discounted Savings = 249.14, Cumulative = 2,217.94 Initial investment = 6,000.00\n",
            "Year 10: Discounted Savings = 250.32, Cumulative = 2,468.26 Initial investment = 6,000.00\n",
            "Year 11: Discounted Savings = 251.65, Cumulative = 2,719.90 Initial investment = 6,000.00\n",
            "Year 12: Discounted Savings = 253.13, Cumulative = 2,973.04 Initial investment = 6,000.00\n",
            "Year 13: Discounted Savings = 254.78, Cumulative = 3,227.82 Initial investment = 6,000.00\n",
            "Year 14: Discounted Savings = 256.59, Cumulative = 3,484.41 Initial investment = 6,000.00\n",
            "Year 15: Discounted Savings = 258.56, Cumulative = 3,742.97 Initial investment = 6,000.00\n",
            "Year 16: Discounted Savings = 260.71, Cumulative = 4,003.68 Initial investment = 6,000.00\n",
            "Year 17: Discounted Savings = 263.02, Cumulative = 4,266.69 Initial investment = 6,000.00\n",
            "Year 18: Discounted Savings = 265.50, Cumulative = 4,532.19 Initial investment = 6,000.00\n",
            "Year 19: Discounted Savings = 268.16, Cumulative = 4,800.36 Initial investment = 6,000.00\n",
            "Year 20: Discounted Savings = 271.00, Cumulative = 5,071.36 Initial investment = 6,000.00\n",
            "Year 21: Discounted Savings = 274.02, Cumulative = 5,345.38 Initial investment = 6,000.00\n",
            "Year 22: Discounted Savings = 277.23, Cumulative = 5,622.62 Initial investment = 6,000.00\n",
            "Year 23: Discounted Savings = 280.63, Cumulative = 5,903.25 Initial investment = 6,000.00\n",
            "Year 24: Discounted Savings = 284.22, Cumulative = 6,187.47 Initial investment = 6,000.00\n",
            "Break-even occurs at year 24\n"
          ]
        }
      ]
    }
  ]
}